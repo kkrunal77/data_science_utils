{
  "nbformat": 4,
  "nbformat_minor": 0,
  "metadata": {
    "colab": {
      "name": "TFrecord_experiments.ipynb",
      "version": "0.3.2",
      "provenance": [],
      "private_outputs": true,
      "collapsed_sections": []
    },
    "kernelspec": {
      "name": "python3",
      "display_name": "Python 3"
    },
    "accelerator": "GPU"
  },
  "cells": [
    {
      "cell_type": "code",
      "metadata": {
        "id": "Uusmoo-PAycV",
        "colab_type": "code",
        "colab": {}
      },
      "source": [
        "import numpy as np\n",
        "import skimage\n",
        "print(np.__version__)\n",
        "print(skimage.__version__)\n",
        "\n",
        "import time, math\n",
        "from tqdm import tqdm_notebook as tqdm\n",
        "\n",
        "import tensorflow as tf\n",
        "import tensorflow.contrib.eager as tfe\n",
        "import gc\n",
        "print(tf.__version__)\n",
        "\n",
        "import matplotlib.pyplot as plt\n",
        "% matplotlib inline\n",
        "%config InlineBackend.figure_format='retina'\n",
        "\n",
        "from IPython.core.interactiveshell import InteractiveShell\n",
        "InteractiveShell.ast_node_interactivity = \"all\"\n",
        "\n",
        "\n",
        "from PIL import Image\n",
        "import random"
      ],
      "execution_count": 0,
      "outputs": []
    },
    {
      "cell_type": "markdown",
      "metadata": {
        "id": "JgvqCwZ8Uonq",
        "colab_type": "text"
      },
      "source": [
        "[mnist_tfrecord](https://keras.io/examples/mnist_tfrecord/)\n",
        "\n",
        "[tensorflows-tfrecord-to-train-keras-model](https://www.dlology.com/blog/how-to-leverage-tensorflows-tfrecord-to-train-keras-model/)"
      ]
    },
    {
      "cell_type": "markdown",
      "metadata": {
        "id": "5jzxxAJwenYW",
        "colab_type": "text"
      },
      "source": [
        "# Cifar10 dataset"
      ]
    },
    {
      "cell_type": "code",
      "metadata": {
        "id": "8HbiCSHnBgIL",
        "colab_type": "code",
        "colab": {}
      },
      "source": [
        "(x_train, y_train), (x_test, y_test) = tf.keras.datasets.cifar10.load_data()\n",
        "classes = ['airplane','automobile','bird','cat','deer','dog','frog','horse','ship','truck']\n",
        "len_train, len_test = len(x_train), len(x_test)\n",
        "y_train = y_train.astype('int64').reshape(len_train)\n",
        "y_test = y_test.astype('int64').reshape(len_test)\n",
        "\n",
        "train_mean = np.mean(x_train, axis=(0,1,2))\n",
        "train_std = np.std(x_train, axis=(0,1,2))\n",
        "\n",
        "normalize = lambda x: ((x - train_mean) / train_std).astype('float32') # todo: check here\n",
        "pad4 = lambda x: np.pad(x, [(0, 0), (4, 4), (4, 4), (0, 0)], mode='reflect')\n",
        "\n",
        "x_train = normalize(pad4(x_train))\n",
        "x_test = normalize(x_test)"
      ],
      "execution_count": 0,
      "outputs": []
    },
    {
      "cell_type": "code",
      "metadata": {
        "id": "4gqiKh6WeKKx",
        "colab_type": "code",
        "colab": {}
      },
      "source": [
        ""
      ],
      "execution_count": 0,
      "outputs": []
    },
    {
      "cell_type": "code",
      "metadata": {
        "id": "F0amtahvd82g",
        "colab_type": "code",
        "colab": {}
      },
      "source": [
        "x_test.shape"
      ],
      "execution_count": 0,
      "outputs": []
    },
    {
      "cell_type": "markdown",
      "metadata": {
        "id": "242vRHuV3uXT",
        "colab_type": "text"
      },
      "source": [
        "# Feature Description"
      ]
    },
    {
      "cell_type": "code",
      "metadata": {
        "id": "8Rp48X4CBgNU",
        "colab_type": "code",
        "colab": {}
      },
      "source": [
        "def _bytes_feature(value):\n",
        "    \"\"\"Returns a bytes_list from a string / byte.\"\"\"\n",
        "    return tf.train.Feature(bytes_list=tf.train.BytesList(value=[value]))\n",
        "\n",
        "def _float_feature(value):\n",
        "    \"\"\"Returns a float_list from a float / double.\"\"\"\n",
        "    return tf.train.Feature(float_list=tf.train.FloatList(value=[value]))\n",
        "\n",
        "def _int64_feature(value):\n",
        "    \"\"\"Returns an int64_list from a bool / enum / int / uint.\"\"\"\n",
        "    return tf.train.Feature(int64_list=tf.train.Int64List(value=[value]))\n",
        "\n",
        "def serialize_function(x, y):\n",
        "    example = tf.train.Example(features=tf.train.Features(\n",
        "                    feature={\n",
        "                            'image': _bytes_feature(tf.compat.as_bytes(x.tostring())),\n",
        "                            'label': _int64_feature(int(y))\n",
        "                    }))\n",
        "    return example.SerializeToString()\n",
        "\n"
      ],
      "execution_count": 0,
      "outputs": []
    },
    {
      "cell_type": "markdown",
      "metadata": {
        "id": "eLKPD-UhedcX",
        "colab_type": "text"
      },
      "source": [
        "# Mount Google drive"
      ]
    },
    {
      "cell_type": "code",
      "metadata": {
        "id": "3mYlmw0TecWW",
        "colab_type": "code",
        "colab": {}
      },
      "source": [
        "# from google.colab import drive\n",
        "# drive.mount('/content/gdrive/My\\ Drive')"
      ],
      "execution_count": 0,
      "outputs": []
    },
    {
      "cell_type": "code",
      "metadata": {
        "id": "RtFtIcX2fF-e",
        "colab_type": "code",
        "colab": {}
      },
      "source": [
        "# !mkdir ./gdrive/My\\ Drive/tf_data"
      ],
      "execution_count": 0,
      "outputs": []
    },
    {
      "cell_type": "code",
      "metadata": {
        "id": "zUZTnVGT7mwN",
        "colab_type": "code",
        "colab": {}
      },
      "source": [
        "!ls -lh"
      ],
      "execution_count": 0,
      "outputs": []
    },
    {
      "cell_type": "code",
      "metadata": {
        "id": "KP0JwQL6e6Cg",
        "colab_type": "code",
        "colab": {}
      },
      "source": [
        "# !ls gdrive/My\\ Drive/tf_data"
      ],
      "execution_count": 0,
      "outputs": []
    },
    {
      "cell_type": "code",
      "metadata": {
        "id": "mZwyBjpeBgW7",
        "colab_type": "code",
        "colab": {}
      },
      "source": [
        "def convert_to_tfrecord(data_set, file_name):\n",
        "    with tf.python_io.TFRecordWriter(file_name) as record_writer:\n",
        "        for x, y in data_set:\n",
        "            print(x.shape, y.shape)\n",
        "            if isinstance(x, (np.ndarray, np.generic)) and isinstance(y, (np.ndarray, np.generic)):\n",
        "                record = serialize_function(x, y)\n",
        "            else:\n",
        "                record = serialize_function(x.numpy(), y.numpy())\n",
        "#                 print(record)\n",
        "            record_writer.write(record)\n",
        "#             break"
      ],
      "execution_count": 0,
      "outputs": []
    },
    {
      "cell_type": "code",
      "metadata": {
        "id": "ZJ9RIdZKfafm",
        "colab_type": "code",
        "colab": {}
      },
      "source": [
        "path = './test.tfrecords'\n",
        "data_to_write = zip(x_test, y_test)"
      ],
      "execution_count": 0,
      "outputs": []
    },
    {
      "cell_type": "code",
      "metadata": {
        "id": "2D9PamGdf_hE",
        "colab_type": "code",
        "colab": {}
      },
      "source": [
        "convert_to_tfrecord(data_to_write, path)\n"
      ],
      "execution_count": 0,
      "outputs": []
    },
    {
      "cell_type": "code",
      "metadata": {
        "id": "Jk5vOIfRMITl",
        "colab_type": "code",
        "colab": {}
      },
      "source": [
        "!ls -lh"
      ],
      "execution_count": 0,
      "outputs": []
    },
    {
      "cell_type": "markdown",
      "metadata": {
        "id": "Ucyl9i--sefe",
        "colab_type": "text"
      },
      "source": [
        "# Extract data"
      ]
    },
    {
      "cell_type": "code",
      "metadata": {
        "id": "Q_bMT2WmvyEh",
        "colab_type": "code",
        "colab": {}
      },
      "source": [
        ""
      ],
      "execution_count": 0,
      "outputs": []
    },
    {
      "cell_type": "code",
      "metadata": {
        "id": "1w5Eu1F_Gf3e",
        "colab_type": "code",
        "colab": {}
      },
      "source": [
        ""
      ],
      "execution_count": 0,
      "outputs": []
    },
    {
      "cell_type": "markdown",
      "metadata": {
        "id": "Sr_n-LzTGgoY",
        "colab_type": "text"
      },
      "source": [
        "# Mathod 1"
      ]
    },
    {
      "cell_type": "code",
      "metadata": {
        "id": "2ibNZAPWBHFF",
        "colab_type": "code",
        "colab": {}
      },
      "source": [
        "def parser(record):\n",
        "    keys_to_features = {\n",
        "        \"image\": tf.FixedLenFeature([], tf.string),\n",
        "        \"label\":     tf.FixedLenFeature([], tf.int64)\n",
        "    }\n",
        "    parsed = tf.parse_single_example(record, keys_to_features)\n",
        "    image = tf.decode_raw(parsed[\"image\"], tf.uint8)\n",
        "    image = tf.cast(image, tf.float32)\n",
        "    #image = tf.reshape(image, shape=[224, 224, 3])\n",
        "    label = tf.cast(parsed[\"label\"], tf.int32)\n",
        "\n",
        "    return {'image': image}, label\n",
        "\n",
        "\n",
        "def input_foo(filenames):\n",
        "    dataset = tf.data.TFRecordDataset(filenames=filenames, num_parallel_reads=40)\n",
        "    \n",
        "    dataset = dataset.apply(\n",
        "        tf.contrib.data.shuffle_and_repeat(buffer_size=1024, \n",
        "                                           seed=1)\n",
        "    )\n",
        "    dataset = dataset.apply(\n",
        "        tf.contrib.data.map_and_batch(\n",
        "                                  map_func=parser, \n",
        "                                  batch_size=32, \n",
        "                                  num_parallel_calls=tf.data.experimental.AUTOTUNE)\n",
        "        )\n",
        "    dataset = dataset.apply(tf.contrib.data.prefetch_to_device('/GPU:0', buffer_size=None))\n",
        "#     dataset = dataset.map(parser, num_parallel_calls=12)\n",
        "#     dataset = dataset.batch(batch_size=1000)\n",
        "#     dataset = dataset.prefetch(buffer_size=2)\n",
        "    return dataset"
      ],
      "execution_count": 0,
      "outputs": []
    },
    {
      "cell_type": "code",
      "metadata": {
        "id": "Usw5HnXRfQgX",
        "colab_type": "code",
        "colab": {}
      },
      "source": [
        "??tf.contrib.data.prefetch_to_device"
      ],
      "execution_count": 0,
      "outputs": []
    },
    {
      "cell_type": "code",
      "metadata": {
        "id": "ToHyr7tqGnNt",
        "colab_type": "code",
        "colab": {}
      },
      "source": [
        "kk = input_foo(path)"
      ],
      "execution_count": 0,
      "outputs": []
    },
    {
      "cell_type": "code",
      "metadata": {
        "id": "YQ5DZbuxHxIi",
        "colab_type": "code",
        "colab": {}
      },
      "source": [
        "kk"
      ],
      "execution_count": 0,
      "outputs": []
    },
    {
      "cell_type": "code",
      "metadata": {
        "id": "UhjqaFZt1nd-",
        "colab_type": "code",
        "colab": {}
      },
      "source": [
        "  feature_description = {\n",
        "    'image': tf.FixedLenFeature([], tf.string, default_value=''),\n",
        "    'label': tf.FixedLenFeature([], tf.int64, default_value=0)\n",
        "    # 'feature2': tf.FixedLenFeature([], tf.string, default_value=''),\n",
        "    # 'feature3': tf.FixedLenFeature([], tf.float32, default_value=0.0),\n",
        "        }\n",
        "\n",
        "def _parse_function(example_proto):\n",
        "#     Parse the input tf.Example proto using the dictionary above.\n",
        "    parsed_features = tf.parse_single_example(example_proto, feature_description)\n",
        "    parsed_features['image'] = tf.decode_raw(parsed_features['image'], tf.uint8)\n",
        "    return parsed_features['image'], parsed_features[\"label\"]"
      ],
      "execution_count": 0,
      "outputs": []
    },
    {
      "cell_type": "code",
      "metadata": {
        "id": "k4-GAVIJsjHa",
        "colab_type": "code",
        "colab": {}
      },
      "source": [
        "file  = tf.data.Dataset.list_files(file_pattern='.tfrecords')\n",
        "dataset = tf.data.TFRecordDataset(file)\n",
        "\n",
        "dataset = dataset.shuffle(1000)\n",
        "dataset = dataset.repeat(2)\n",
        "dataset = dataset.map(lambda x : tf.parse_single_example(x, feature_description))\n",
        "dataset = dataset.batch(16)\n",
        "\"\"\"\n",
        "<DatasetV1Adapter shapes: {image: (?,), label: (?,)}, types: {image: tf.string, label: tf.int64}>\n",
        "\"\"\""
      ],
      "execution_count": 0,
      "outputs": []
    },
    {
      "cell_type": "markdown",
      "metadata": {
        "id": "u26U8FcD1s6E",
        "colab_type": "text"
      },
      "source": [
        "# Other Mathod\n",
        "\n",
        "[tf_records_DOC](https://www.tensorflow.org/tutorials/load_data/tf_records)"
      ]
    },
    {
      "cell_type": "code",
      "metadata": {
        "id": "sqmvclx84-Bl",
        "colab_type": "code",
        "colab": {}
      },
      "source": [
        "raw_dataset = tf.data.TFRecordDataset('test.tfrecords')\n",
        "print(raw_dataset)\n",
        "\n",
        "for raw_record in raw_dataset.take(10):\n",
        "    print(repr(raw_record))\n",
        "    break\n",
        "    \n",
        "parsed_dataset = raw_dataset.map(_parse_function)\n",
        "print(parsed_dataset)\n",
        "\n",
        "\n",
        "for parsed_record in parsed_dataset.take(10):\n",
        "    print(repr(parsed_record))\n",
        "    break"
      ],
      "execution_count": 0,
      "outputs": []
    },
    {
      "cell_type": "code",
      "metadata": {
        "id": "WwcAIQqPvxCQ",
        "colab_type": "code",
        "colab": {}
      },
      "source": [
        "iterator = dataset.make_one_shot_iterator()\n",
        "feature = iterator.get_next()\n",
        "\"\"\"\n",
        "{'image': <tf.Tensor 'IteratorGetNext_5:0' shape=(?,) dtype=string>,\n",
        " 'label': <tf.Tensor 'IteratorGetNext_5:1' shape=(?,) dtype=int64>}\n",
        "\"\"\""
      ],
      "execution_count": 0,
      "outputs": []
    },
    {
      "cell_type": "markdown",
      "metadata": {
        "id": "JUTk2iL73lp0",
        "colab_type": "text"
      },
      "source": [
        "# look at single record (Decoding)"
      ]
    },
    {
      "cell_type": "code",
      "metadata": {
        "id": "gjpf7xT6wzql",
        "colab_type": "code",
        "colab": {}
      },
      "source": [
        "record_iterator = tf.python_io.tf_record_iterator(path)\n",
        "\n",
        "for string_record in record_iterator:\n",
        "    example = tf.train.Example()\n",
        "    example.ParseFromString(string_record)\n",
        "\n",
        "    print(example)\n",
        "\n",
        "    # Exit after 1 iteration as this is purely demonstrative.\n",
        "    break"
      ],
      "execution_count": 0,
      "outputs": []
    },
    {
      "cell_type": "code",
      "metadata": {
        "id": "2kibogdc_C0T",
        "colab_type": "code",
        "colab": {}
      },
      "source": [
        "print(dict(example.features.feature))"
      ],
      "execution_count": 0,
      "outputs": []
    },
    {
      "cell_type": "code",
      "metadata": {
        "id": "PS7wg444_wzP",
        "colab_type": "code",
        "colab": {}
      },
      "source": [
        "example.features.feature['image']"
      ],
      "execution_count": 0,
      "outputs": []
    },
    {
      "cell_type": "code",
      "metadata": {
        "id": "RUI3MOsA_w5K",
        "colab_type": "code",
        "colab": {}
      },
      "source": [
        "keys_to_features = {\n",
        "        \"image\": tf.FixedLenFeature([], tf.string),\n",
        "        \"label\":     tf.FixedLenFeature([], tf.int64)\n",
        "    }\n",
        "parsed = tf.parse_single_example(string_record, keys_to_features)\n",
        "image = tf.decode_raw(parsed[\"image\"], tf.uint8)\n",
        "image = tf.cast(image, tf.float32)\n",
        "image = tf.reshape(image, shape=[32, 32, 3])\n",
        "label = tf.cast(parsed[\"label\"], tf.int32)\n"
      ],
      "execution_count": 0,
      "outputs": []
    },
    {
      "cell_type": "code",
      "metadata": {
        "id": "7iAsT5Nf_w3Q",
        "colab_type": "code",
        "colab": {}
      },
      "source": [
        "print(image, label)"
      ],
      "execution_count": 0,
      "outputs": []
    },
    {
      "cell_type": "code",
      "metadata": {
        "id": "fhFQ3eptsxrE",
        "colab_type": "code",
        "colab": {}
      },
      "source": [
        "# ??tf.data.Dataset.list_files"
      ],
      "execution_count": 0,
      "outputs": []
    },
    {
      "cell_type": "code",
      "metadata": {
        "id": "dv1VvncBmwad",
        "colab_type": "code",
        "colab": {}
      },
      "source": [
        "raw_dataset"
      ],
      "execution_count": 0,
      "outputs": []
    },
    {
      "cell_type": "code",
      "metadata": {
        "id": "RdxWlQJKBgQS",
        "colab_type": "code",
        "colab": {}
      },
      "source": [
        "parsed_dataset = raw_dataset.map(_parse_function, num_parallel_calls=tf.data.experimental.AUTOTUNE)\n",
        "parsed_dataset"
      ],
      "execution_count": 0,
      "outputs": []
    },
    {
      "cell_type": "code",
      "metadata": {
        "id": "PQgsG3LUpolW",
        "colab_type": "code",
        "colab": {}
      },
      "source": [
        "import pandas as pd\n",
        "import tensorflow as tf\n",
        "\n",
        "def _bytes_feature(value):\n",
        "    \"\"\"Returns a bytes_list from a string / byte.\"\"\"\n",
        "    return tf.train.Feature(bytes_list=tf.train.BytesList(value=[value]))\n",
        "\n",
        "def _float_feature(value):\n",
        "    \"\"\"Returns a float_list from a float / double.\"\"\"\n",
        "    return tf.train.Feature(float_list=tf.train.FloatList(value=[value]))\n",
        "\n",
        "def _int64_feature(value):\n",
        "    \"\"\"Returns an int64_list from a bool / enum / int / uint.\"\"\"\n",
        "    return tf.train.Feature(int64_list=tf.train.Int64List(value=[value]))\n",
        "\n",
        "def serialize_function(x, y):\n",
        "    example = tf.train.Example(features=tf.train.Features(\n",
        "                    feature={\n",
        "                            'image': _bytes_feature(tf.compat.as_bytes(x.tostring())),\n",
        "                            'label': _int64_feature(int(y))\n",
        "                    }))\n",
        "    return example.SerializeToString()\n",
        "\n",
        "\n",
        "def convert_to_tfrecord(data_set, file_name):\n",
        "    with tf.python_io.TFRecordWriter(file_name) as record_writer:\n",
        "        for x, y in data_set:\n",
        "            if isinstance(x, (np.ndarray, np.generic)) and isinstance(y, (np.ndarray, np.generic)):\n",
        "                record = serialize_function(x, y)\n",
        "            else:\n",
        "                record = serialize_function(x.numpy(), y.numpy())\n",
        "            record_writer.write(record)\n",
        "        print(f\"TFRecord id created at path : '{file_name}', Done\")\n",
        "\n",
        "\n",
        "def parser(record):\n",
        "    feature_description = {\n",
        "    'image': tf.FixedLenFeature([], tf.string, default_value=''),\n",
        "    'label': tf.FixedLenFeature([], tf.int64, default_value=0)\n",
        "    # 'feature2': tf.FixedLenFeature([], tf.string, default_value=''),\n",
        "    # 'feature3': tf.FixedLenFeature([], tf.float32, default_value=0.0),\n",
        "        }\n",
        "\n",
        "    parsed = tf.parse_single_example(record, feature_description)\n",
        "    image = tf.decode_raw(parsed[\"image\"], tf.uint8)\n",
        "    image = tf.cast(image, tf.float32)\n",
        "    #image = tf.reshape(image, shape=[224, 224, 3])\n",
        "    label = tf.cast(parsed[\"label\"], tf.int32)\n",
        "    return {'image': image}, label\n",
        "\n",
        "\n",
        "def input_foo(filenames):\n",
        "    dataset = tf.data.TFRecordDataset(filenames=filenames, num_parallel_reads=40)\n",
        "    \n",
        "    dataset = dataset.apply(\n",
        "        tf.contrib.data.shuffle_and_repeat(buffer_size=1024, \n",
        "                                           seed=1)\n",
        "    )\n",
        "    dataset = dataset.apply(\n",
        "        tf.contrib.data.map_and_batch(\n",
        "                                  map_func=parser, \n",
        "                                  batch_size=32, \n",
        "                                  num_parallel_calls=tf.data.experimental.AUTOTUNE)\n",
        "        )\n",
        "    dataset = dataset.apply(tf.contrib.data.prefetch_to_device('/GPU:0', buffer_size=None))\n",
        "#     dataset = dataset.map(parser, num_parallel_calls=12)\n",
        "#     dataset = dataset.batch(batch_size=1000)\n",
        "#     dataset = dataset.prefetch(buffer_size=2)\n",
        "    return dataset\n",
        "\n",
        "class CreateTFRecord(object):\n",
        "    \"\"\"docstring for CreateTFRecord\"\"\"\n",
        "    def __init__(self, data_to_write, file_name):\n",
        "        super().__init__()\n",
        "        self.data_to_write = data_to_write\n",
        "        self.file_name = file_name\n",
        "        convert_to_tfrecord(self.data_to_write, self.file_name)\n"
      ],
      "execution_count": 0,
      "outputs": []
    },
    {
      "cell_type": "code",
      "metadata": {
        "id": "j2L0Cm9gcSM1",
        "colab_type": "code",
        "colab": {}
      },
      "source": [
        ""
      ],
      "execution_count": 0,
      "outputs": []
    },
    {
      "cell_type": "code",
      "metadata": {
        "id": "apbDSsKWcSRH",
        "colab_type": "code",
        "colab": {}
      },
      "source": [
        ""
      ],
      "execution_count": 0,
      "outputs": []
    },
    {
      "cell_type": "code",
      "metadata": {
        "id": "KHOch79tcSZK",
        "colab_type": "code",
        "colab": {}
      },
      "source": [
        ""
      ],
      "execution_count": 0,
      "outputs": []
    },
    {
      "cell_type": "code",
      "metadata": {
        "id": "IiGVGbdncSV0",
        "colab_type": "code",
        "colab": {}
      },
      "source": [
        ""
      ],
      "execution_count": 0,
      "outputs": []
    },
    {
      "cell_type": "code",
      "metadata": {
        "id": "wPPg9P-PZ-au",
        "colab_type": "code",
        "colab": {}
      },
      "source": [
        ""
      ],
      "execution_count": 0,
      "outputs": []
    },
    {
      "cell_type": "code",
      "metadata": {
        "id": "6AMU5El0UXr-",
        "colab_type": "code",
        "colab": {}
      },
      "source": [
        "file_name = './test.tfrecords'\n",
        "data_to_write = zip(x_test, y_test)\n",
        "\n",
        "CreateTFRecord(data_to_write, file_name)"
      ],
      "execution_count": 0,
      "outputs": []
    },
    {
      "cell_type": "code",
      "metadata": {
        "id": "eA7d3pN2Ubyu",
        "colab_type": "code",
        "colab": {}
      },
      "source": [
        ""
      ],
      "execution_count": 0,
      "outputs": []
    }
  ]
}